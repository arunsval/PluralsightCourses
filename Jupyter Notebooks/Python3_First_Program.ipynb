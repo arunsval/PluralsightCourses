{
 "cells": [
  {
   "cell_type": "markdown",
   "id": "8f59d89b",
   "metadata": {},
   "source": [
    "# Learning Starts From Here *Python 3 ML*\n",
    "This notebook gives examples on *Python3*"
   ]
  },
  {
   "cell_type": "markdown",
   "id": "b053dd9a",
   "metadata": {},
   "source": [
    "## Example:1 \"Hello, World\""
   ]
  },
  {
   "cell_type": "code",
   "execution_count": 1,
   "id": "a6605264",
   "metadata": {},
   "outputs": [
    {
     "name": "stdout",
     "output_type": "stream",
     "text": [
      "Hello, Arun\n",
      "\n"
     ]
    }
   ],
   "source": [
    "my_name = \"Arun\"\n",
    "greeting = \"Hello\"\n",
    "print(greeting,my_name,sep=\", \",end='\\n\\n')\n",
    "y = 10"
   ]
  },
  {
   "cell_type": "markdown",
   "id": "93a7b686",
   "metadata": {},
   "source": [
    "# Example:2 \"Loops\""
   ]
  },
  {
   "cell_type": "code",
   "execution_count": 2,
   "id": "b4748d72",
   "metadata": {},
   "outputs": [
    {
     "name": "stdout",
     "output_type": "stream",
     "text": [
      "j:1 x:1\n",
      "j:2 x:3\n",
      "j:3 x:6\n",
      "j:4 x:10\n",
      "10\n"
     ]
    }
   ],
   "source": [
    "x = 0\n",
    "for j in range(1,5):\n",
    "    x = x+j\n",
    "    print(\"j:{0} x:{1}\".format(j,x))\n",
    "print(y)"
   ]
  },
  {
   "cell_type": "code",
   "execution_count": null,
   "id": "eef0678d",
   "metadata": {},
   "outputs": [],
   "source": []
  }
 ],
 "metadata": {
  "kernelspec": {
   "display_name": "Python 3 (ipykernel)",
   "language": "python",
   "name": "python3"
  },
  "language_info": {
   "codemirror_mode": {
    "name": "ipython",
    "version": 3
   },
   "file_extension": ".py",
   "mimetype": "text/x-python",
   "name": "python",
   "nbconvert_exporter": "python",
   "pygments_lexer": "ipython3",
   "version": "3.9.13"
  }
 },
 "nbformat": 4,
 "nbformat_minor": 5
}
